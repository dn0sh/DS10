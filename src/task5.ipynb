{
 "cells": [
  {
   "cell_type": "markdown",
   "id": "e75d3151",
   "metadata": {},
   "source": [
    "### Task 5"
   ]
  },
  {
   "cell_type": "markdown",
   "id": "cb9e4939",
   "metadata": {},
   "source": [
    "<span style=\"color: green; font-size: 14px;\">\n",
    "\n",
    "Итак... давай, наконец, выясним, повлияло ли посещение ленты новостей на поведение учащихся. \n",
    "Приступили ли они в итоге к работе над лабораторным заданием раньше? Помни, что у нас есть две подготовленные \n",
    "таблицы в базе данных: `test` и `control`. Мы выполним нечто, похожее на A/B-тестирование.\n",
    "Чтобы обнаружить эффект, нам нужно вычислить значение дельты (период времени между датой первого коммита и\n",
    "сроком сдачи лабораторного задания) до того момента, когда учащиеся впервые посетили страницу с лентой новостей, и после этого.\n",
    "Мы должны сделать то же самое и для контрольной группы.\n",
    "\n",
    "Другими словами, каждый пользователь из тестовой таблицы имеет свою собственную временную метку для\n",
    "первого посещения новостной ленты. Мы хотим вычислить среднее значение дельты \n",
    "(разницу между датой первого коммита и сроком сдачи) до этой временной метки и после нее. \n",
    "Мы сделаем то же самое для пользователей в контрольной группе. Ты можешь сказать: «Но они вообще не посещали ленту новостей». \n",
    "Это так, и ранее мы решили использовать среднюю временную метку первого просмотра пользователями тестовой группы для пользователей контрольной группы.\n",
    "\n",
    "Если значение дельты перед первым посещением ленты новостей значительно отличается от этого показателя после первого \n",
    "посещения в тестовой группе, и мы не видим аналогичного эффекта в контрольной группе, значит, создание страницы \n",
    "с новостной лентой было отличной идеей. Мы можем распространить эту практику на всю группу.\n",
    "\n",
    "\n",
    "Подробное описание:\n",
    "</span>\n",
    "<span style=\"color: green; font-size: 13px;\">\n",
    "\n",
    "1. Создай соединение с базой данных с помощью библиотеки `sqlite3`.\n",
    "</span>"
   ]
  },
  {
   "cell_type": "code",
   "execution_count": 5,
   "id": "ee2ca6f2",
   "metadata": {},
   "outputs": [],
   "source": [
    "import sqlite3\n",
    "\n",
    "# cоздаём соединение с базой данных\n",
    "conn = sqlite3.connect('data/checking-logs.sqlite')"
   ]
  },
  {
   "cell_type": "markdown",
   "id": "992875ad",
   "metadata": {},
   "source": [
    "<span style=\"color: green; font-size: 13px;\">\n",
    "\n",
    "2. Используя только **один** запрос для каждой из групп, создай два датафрейма: `test_results` и `control_results` со столбцами `time` и `avg_diff` и только двумя строками.\n",
    "    - `times` должно иметь значения `before` и `after`.\n",
    "    - `avg_diff` содержит среднее значение дельты для всех пользователей за период времени до первого посещения ленты новостей каждым из них и после этого.\n",
    "    - Учитываются только те пользователи, для которых имеются наблюдения и `before`, и `after`.\n",
    "</span>"
   ]
  },
  {
   "cell_type": "code",
   "execution_count": 6,
   "id": "cd9c1401",
   "metadata": {},
   "outputs": [
    {
     "name": "stdout",
     "output_type": "stream",
     "text": [
      "     time   avg_diff\n",
      "0   after -99.523810\n",
      "1  before -66.047619 \n",
      "\n",
      "     time   avg_diff\n",
      "0   after -99.322222\n",
      "1  before -98.033333\n"
     ]
    }
   ],
   "source": [
    "import pandas as pd\n",
    "\n",
    "def read_query_with_table(table_name):\n",
    "    \"\"\"\n",
    "    формирует SQL-запрос для извлечения данных из указанной таблицы\n",
    "    \n",
    "    Args:\n",
    "        table_name (str): имя таблицы\n",
    "    \n",
    "    Returns:\n",
    "        str: SQL-запрос\n",
    "    \"\"\"\n",
    "    query = f\"\"\"\n",
    "    SELECT time, AVG(avg_diff) AS avg_diff\n",
    "    FROM (\n",
    "        SELECT uid, labname,\n",
    "            AVG((strftime('%s', first_commit_ts) - deadlines) / 3600) AS avg_diff,\n",
    "            CASE\n",
    "                WHEN (strftime('%s', first_commit_ts) < strftime('%s', first_view_ts)) THEN 'before'\n",
    "                ELSE 'after'\n",
    "            END AS time\n",
    "        FROM {table_name}\n",
    "        LEFT JOIN deadlines ON {table_name}.labname = deadlines.labs\n",
    "        WHERE labname NOT LIKE 'project1'\n",
    "        GROUP BY uid, time\n",
    "    )\n",
    "    WHERE uid IN (\n",
    "        SELECT uid\n",
    "        FROM (\n",
    "            SELECT uid,\n",
    "                CASE\n",
    "                    WHEN (strftime('%s', first_commit_ts) < strftime('%s', first_view_ts)) THEN 'before'\n",
    "                    ELSE 'after'\n",
    "                END AS time\n",
    "            FROM {table_name}\n",
    "            LEFT JOIN deadlines ON {table_name}.labname = deadlines.labs\n",
    "            WHERE labname NOT LIKE 'project1'\n",
    "            GROUP BY uid, time\n",
    "        )\n",
    "        GROUP BY uid\n",
    "        HAVING COUNT(uid) = 2\n",
    "    )\n",
    "    GROUP BY time;\n",
    "    \"\"\"\n",
    "    return query\n",
    "\n",
    "# запрос и извлечение данных для таблицы 'test'\n",
    "test_results = pd.io.sql.read_sql(read_query_with_table('test'), conn)\n",
    "\n",
    "# запрос и извлечение данных для таблицы 'control'\n",
    "control_results = pd.io.sql.read_sql(read_query_with_table('control'), conn)\n",
    "\n",
    "print(test_results, '\\n')\n",
    "print(control_results)"
   ]
  },
  {
   "cell_type": "markdown",
   "id": "5250b2c2",
   "metadata": {},
   "source": [
    "<span style=\"color: green; font-size: 13px;\">\n",
    "\n",
    "3. Мы по-прежнему не используем лабораторное задание 'project1'.\n",
    "4. Закрой соединение.\n",
    "5. Дайте ответ: оказалось ли предположение верным и влияет ли наличие страницы с новостной лентой на поведение учащихся?\n",
    "</span>"
   ]
  },
  {
   "cell_type": "code",
   "execution_count": 7,
   "id": "90eef290",
   "metadata": {},
   "outputs": [],
   "source": [
    "# закрываем соединение\n",
    "conn.close()"
   ]
  },
  {
   "cell_type": "markdown",
   "id": "610e832a",
   "metadata": {},
   "source": [
    "наличие страницы с новостной лентой положительно влияет на поведение учащихся в группе \"test\", т.к. этой группе наблюдается заметная разница в среднем значении (avg_diff), приэтом в группе \"control\" разница несущественная"
   ]
  }
 ],
 "metadata": {
  "kernelspec": {
   "display_name": "Python 3 (ipykernel)",
   "language": "python",
   "name": "python3"
  },
  "language_info": {
   "codemirror_mode": {
    "name": "ipython",
    "version": 3
   },
   "file_extension": ".py",
   "mimetype": "text/x-python",
   "name": "python",
   "nbconvert_exporter": "python",
   "pygments_lexer": "ipython3",
   "version": "3.10.9"
  }
 },
 "nbformat": 4,
 "nbformat_minor": 5
}
