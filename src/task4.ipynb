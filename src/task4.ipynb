{
 "cells": [
  {
   "cell_type": "markdown",
   "id": "e75d3151",
   "metadata": {},
   "source": [
    "### Task 4"
   ]
  },
  {
   "cell_type": "markdown",
   "id": "cb9e4939",
   "metadata": {},
   "source": [
    "<span style=\"color: green; font-size: 14px;\">\n",
    "На предыдущих этапах ты занимался просто подготовкой данных. Ты не получил никакой аналитической информации на основе имеющихся данных. Пришло время приступить к анализу. Помни, что, согласно нашему предположению, пользователи приступили бы к работе над лабораторными заданиями раньше, если бы они просмотрели ленту новостей? Это означает, что ключевой метрикой для нас является период времени (delta) между датой начала работы пользователя над лабораторным заданием (первого коммита) и сроком сдачи лабораторного задания. Мы будем смотреть на то, меняется ли она в зависимости от просмотра страницы.\n",
    "\n",
    "Что тебе нужно сделать в этом упражнении:\n",
    "</span>\n",
    "<span style=\"color: green; font-size: 13px;\">\n",
    "\n",
    "1. Создай соединение с базой данных с помощью библиотеки `sqlite3`.\n",
    "</span>"
   ]
  },
  {
   "cell_type": "code",
   "execution_count": 1,
   "id": "ee2ca6f2",
   "metadata": {},
   "outputs": [],
   "source": [
    "import sqlite3\n",
    "\n",
    "# cоздаём соединение с базой данных\n",
    "conn = sqlite3.connect('data/checking-logs.sqlite')"
   ]
  },
  {
   "cell_type": "markdown",
   "id": "992875ad",
   "metadata": {},
   "source": [
    "<span style=\"color: green; font-size: 13px;\">\n",
    "\n",
    "2. Получи схему таблицы `test`.\n",
    "</span>"
   ]
  },
  {
   "cell_type": "code",
   "execution_count": 2,
   "id": "f4c0887c",
   "metadata": {},
   "outputs": [
    {
     "data": {
      "text/plain": [
       "[(0, 'uid', 'TEXT', 0, None, 0),\n",
       " (1, 'labname', 'TEXT', 0, None, 0),\n",
       " (2, 'first_commit_ts', 'TIMESTAMP', 0, None, 0),\n",
       " (3, 'first_view_ts', 'TIMESTAMP', 0, None, 0)]"
      ]
     },
     "execution_count": 2,
     "metadata": {},
     "output_type": "execute_result"
    }
   ],
   "source": [
    "# получаем схему таблицы test\n",
    "query_schema = \"PRAGMA table_info(test);\"\n",
    "schema = conn.execute(query_schema).fetchall()\n",
    "schema"
   ]
  },
  {
   "cell_type": "markdown",
   "id": "66461675",
   "metadata": {},
   "source": [
    "<span style=\"color: green; font-size: 13px;\">\n",
    "\n",
    "3. Получи только первые `10` строк таблицы `test`, чтобы проверить, как она выглядит.\n",
    "</span>"
   ]
  },
  {
   "cell_type": "code",
   "execution_count": 3,
   "id": "7c860578",
   "metadata": {},
   "outputs": [
    {
     "name": "stdout",
     "output_type": "stream",
     "text": [
      "('user_1', 'laba04', '2020-04-26 17:06:18', '2020-04-26 21:53:59')\n",
      "('user_1', 'laba04s', '2020-04-26 17:12:11', '2020-04-26 21:53:59')\n",
      "('user_1', 'laba05', '2020-05-02 19:15:18', '2020-04-26 21:53:59')\n",
      "('user_1', 'laba06', '2020-05-17 16:26:35', '2020-04-26 21:53:59')\n",
      "('user_1', 'laba06s', '2020-05-20 12:23:37', '2020-04-26 21:53:59')\n",
      "('user_1', 'project1', '2020-05-14 20:56:08', '2020-04-26 21:53:59')\n",
      "('user_10', 'laba04', '2020-04-25 08:24:52', '2020-04-18 12:19:50')\n",
      "('user_10', 'laba04s', '2020-04-25 08:37:54', '2020-04-18 12:19:50')\n",
      "('user_10', 'laba05', '2020-05-01 19:27:26', '2020-04-18 12:19:50')\n",
      "('user_10', 'laba06', '2020-05-19 11:39:28', '2020-04-18 12:19:50')\n"
     ]
    }
   ],
   "source": [
    "# получаем первые 10 строк таблицы test\n",
    "query_data = \"SELECT * FROM test LIMIT 10;\"\n",
    "data = conn.execute(query_data).fetchall()\n",
    "for row in data:\n",
    "    print(row)"
   ]
  },
  {
   "cell_type": "markdown",
   "id": "e581fd52",
   "metadata": {},
   "source": [
    "<span style=\"color: green; font-size: 13px;\">\n",
    "    \n",
    "4. Найди среди всех пользователей минимальное значение этой самой дельты (периода времени от даты первого коммита\n",
    "пользователя до срока сдачи соответствующего лабораторного задания), используя только один запрос.\n",
    "    - Для этого сджойни данные своей таблицы с данными таблицы `deadlines`.\n",
    "    - Период времени должен отображаться в часах.\n",
    "    - Не учитывай лабораторное задание `project1` с более длительным сроком сдачи, поскольку оно будет выделяться на фоне других.\n",
    "    - Сохрани значение в датафрейме `df_min` с соответствующим `uid`.\n",
    "</span>"
   ]
  },
  {
   "cell_type": "code",
   "execution_count": 4,
   "id": "2fcec4fb",
   "metadata": {
    "scrolled": false
   },
   "outputs": [
    {
     "data": {
      "text/html": [
       "<div>\n",
       "<style scoped>\n",
       "    .dataframe tbody tr th:only-of-type {\n",
       "        vertical-align: middle;\n",
       "    }\n",
       "\n",
       "    .dataframe tbody tr th {\n",
       "        vertical-align: top;\n",
       "    }\n",
       "\n",
       "    .dataframe thead th {\n",
       "        text-align: right;\n",
       "    }\n",
       "</style>\n",
       "<table border=\"1\" class=\"dataframe\">\n",
       "  <thead>\n",
       "    <tr style=\"text-align: right;\">\n",
       "      <th></th>\n",
       "      <th>uid</th>\n",
       "      <th>min_time_diff</th>\n",
       "    </tr>\n",
       "  </thead>\n",
       "  <tbody>\n",
       "    <tr>\n",
       "      <th>0</th>\n",
       "      <td>user_30</td>\n",
       "      <td>-202</td>\n",
       "    </tr>\n",
       "  </tbody>\n",
       "</table>\n",
       "</div>"
      ],
      "text/plain": [
       "       uid  min_time_diff\n",
       "0  user_30           -202"
      ]
     },
     "execution_count": 4,
     "metadata": {},
     "output_type": "execute_result"
    }
   ],
   "source": [
    "import pandas as pd\n",
    "\n",
    "# находим минимальное значение периода времени для каждого пользователя\n",
    "query = \"\"\"\n",
    "SELECT\n",
    "    test.uid,\n",
    "    MIN((strftime('%s', test.first_commit_ts) - deadlines.deadlines) / 3600) AS min_time_diff\n",
    "FROM\n",
    "    (SELECT * FROM test WHERE labname NOT LIKE 'project1') AS test\n",
    "LEFT JOIN\n",
    "    deadlines ON test.labname = deadlines.labs;\n",
    "\"\"\"\n",
    "# результат запроса в датафрейм\n",
    "df_min = pd.io.sql.read_sql(query, conn)\n",
    "df_min"
   ]
  },
  {
   "cell_type": "markdown",
   "id": "863c4aa9",
   "metadata": {},
   "source": [
    "<span style=\"color: green; font-size: 13px;\">\n",
    "    \n",
    "5. Выполни те же самые операции для максимального значения дельты, используя только **один** запрос. Название итогового датафрейма — `df_max`.\n",
    "</span>"
   ]
  },
  {
   "cell_type": "code",
   "execution_count": 5,
   "id": "ae678210",
   "metadata": {
    "scrolled": false
   },
   "outputs": [
    {
     "data": {
      "text/html": [
       "<div>\n",
       "<style scoped>\n",
       "    .dataframe tbody tr th:only-of-type {\n",
       "        vertical-align: middle;\n",
       "    }\n",
       "\n",
       "    .dataframe tbody tr th {\n",
       "        vertical-align: top;\n",
       "    }\n",
       "\n",
       "    .dataframe thead th {\n",
       "        text-align: right;\n",
       "    }\n",
       "</style>\n",
       "<table border=\"1\" class=\"dataframe\">\n",
       "  <thead>\n",
       "    <tr style=\"text-align: right;\">\n",
       "      <th></th>\n",
       "      <th>uid</th>\n",
       "      <th>max_time_diff</th>\n",
       "    </tr>\n",
       "  </thead>\n",
       "  <tbody>\n",
       "    <tr>\n",
       "      <th>0</th>\n",
       "      <td>user_25</td>\n",
       "      <td>-2</td>\n",
       "    </tr>\n",
       "  </tbody>\n",
       "</table>\n",
       "</div>"
      ],
      "text/plain": [
       "       uid  max_time_diff\n",
       "0  user_25             -2"
      ]
     },
     "execution_count": 5,
     "metadata": {},
     "output_type": "execute_result"
    }
   ],
   "source": [
    "# находим максимальное значение периода времени для каждого пользователя\n",
    "query = \"\"\"\n",
    "SELECT\n",
    "    test.uid,\n",
    "    MAX((strftime('%s', test.first_commit_ts) - deadlines.deadlines) / 3600) AS max_time_diff\n",
    "FROM\n",
    "    (SELECT * FROM test WHERE labname NOT LIKE 'project1') AS test\n",
    "LEFT JOIN\n",
    "    deadlines ON test.labname = deadlines.labs;\n",
    "\"\"\"\n",
    "# результат запроса в датафрейм\n",
    "df_max = pd.io.sql.read_sql(query, conn)\n",
    "df_max"
   ]
  },
  {
   "cell_type": "markdown",
   "id": "8922af53",
   "metadata": {},
   "source": [
    "<span style=\"color: green; font-size: 13px;\">\n",
    "    \n",
    "6. Выполни те же самые операции для среднего значения дельты, используя только один запрос. На этот раз ваш итоговый датафрейм не должен включать столбец `uid`; имя датафрейма — `df_avg`.\n",
    "</span>"
   ]
  },
  {
   "cell_type": "code",
   "execution_count": 6,
   "id": "1013f539",
   "metadata": {},
   "outputs": [
    {
     "data": {
      "text/html": [
       "<div>\n",
       "<style scoped>\n",
       "    .dataframe tbody tr th:only-of-type {\n",
       "        vertical-align: middle;\n",
       "    }\n",
       "\n",
       "    .dataframe tbody tr th {\n",
       "        vertical-align: top;\n",
       "    }\n",
       "\n",
       "    .dataframe thead th {\n",
       "        text-align: right;\n",
       "    }\n",
       "</style>\n",
       "<table border=\"1\" class=\"dataframe\">\n",
       "  <thead>\n",
       "    <tr style=\"text-align: right;\">\n",
       "      <th></th>\n",
       "      <th>avg_delta</th>\n",
       "    </tr>\n",
       "  </thead>\n",
       "  <tbody>\n",
       "    <tr>\n",
       "      <th>0</th>\n",
       "      <td>-89.125</td>\n",
       "    </tr>\n",
       "  </tbody>\n",
       "</table>\n",
       "</div>"
      ],
      "text/plain": [
       "   avg_delta\n",
       "0    -89.125"
      ]
     },
     "execution_count": 6,
     "metadata": {},
     "output_type": "execute_result"
    }
   ],
   "source": [
    "# рассчитываем среднее значение дельты для каждого пользователя\n",
    "query = \"\"\"\n",
    "SELECT\n",
    "    AVG((strftime('%s', test.first_commit_ts) - deadlines.deadlines) / 3600) AS avg_delta\n",
    "FROM\n",
    "    (SELECT * FROM test WHERE labname NOT LIKE 'project1') AS test\n",
    "LEFT JOIN\n",
    "    deadlines ON test.labname = deadlines.labs;\n",
    "\"\"\"\n",
    "# результат запроса в датафрейм\n",
    "df_avg = pd.io.sql.read_sql(query, conn)\n",
    "df_avg"
   ]
  },
  {
   "cell_type": "markdown",
   "id": "0961f834",
   "metadata": {},
   "source": [
    "<span style=\"color: green; font-size: 13px;\">\n",
    "    \n",
    "7. Мы хотим проверить предположение о том, что у пользователей, посетивших ленту новостей всего несколько раз, период времени между датой первого коммита и сроком сдачи лабораторного задания меньше. Для этого тебе необходимо рассчитать коэффициент корреляции между количеством просмотров страниц и разницей между датами.\n",
    "    - Используя только **один** запрос, создай таблицу со столбцами: `uid`, `avg_diff`, `pageviews`.\n",
    "        - `uid` — это uid, существующие в таблице `test`.\n",
    "        - `avg_diff` — среднее значение дельты (периода времени между датой первого коммита и сроком сдачи лабораторного задания) для каждого пользователя.\n",
    "        - `pageviews` — количество посещений ленты новостей одним пользователем.\n",
    "    - Не учитывай лабораторное задание `project1`.\n",
    "    - Сохрани результаты в датафрейме `views_diff`.\n",
    "    - Используй метод `corr()` библиотеки Pandas для вычисления коэффициента корреляции между количеством просмотров и значением дельты.\n",
    "</span>"
   ]
  },
  {
   "cell_type": "code",
   "execution_count": 7,
   "id": "f12e3a26",
   "metadata": {},
   "outputs": [
    {
     "name": "stdout",
     "output_type": "stream",
     "text": [
      "Коэффициент корреляции:\n",
      "           avg_diff  pageviews\n",
      "avg_diff   1.000000  -0.279736\n",
      "pageviews -0.279736   1.000000\n"
     ]
    }
   ],
   "source": [
    "query = \"\"\"\n",
    "SELECT\n",
    "    t.uid, t.avg_diff, p.pageviews\n",
    "FROM (\n",
    "    SELECT test.uid, AVG((strftime('%s', test.first_commit_ts) - deadlines.deadlines) / 3600) AS avg_diff\n",
    "    FROM test\n",
    "    LEFT JOIN deadlines ON test.labname = deadlines.labs\n",
    "    WHERE labname NOT LIKE 'project1'\n",
    "    GROUP BY test.uid\n",
    ") t\n",
    "LEFT JOIN (\n",
    "    SELECT uid, COUNT(*) AS pageviews\n",
    "    FROM pageviews\n",
    "    WHERE uid LIKE 'user_%'\n",
    "    GROUP BY uid\n",
    ") p ON t.uid = p.uid;\n",
    "\"\"\"\n",
    "\n",
    "# результат запроса в датафрейм\n",
    "views_diff = pd.io.sql.read_sql(query, conn)\n",
    "\n",
    "print(\"Коэффициент корреляции:\")\n",
    "print(views_diff.corr(numeric_only=True))"
   ]
  },
  {
   "cell_type": "markdown",
   "id": "5250b2c2",
   "metadata": {},
   "source": [
    "<span style=\"color: green; font-size: 13px;\">\n",
    "\n",
    "4. Закрой соединение.\n",
    "</span>\n",
    "<span style=\"color: green; font-size: 12px;\">\n",
    "\n",
    "Небольшой совет — выполняй все операции поочередно, от простой к более сложной, а не пытаясь сделать всё вместе и сразу. Это поможет в отладке твоих запросов.\n",
    "</span>"
   ]
  },
  {
   "cell_type": "code",
   "execution_count": 8,
   "id": "90eef290",
   "metadata": {},
   "outputs": [],
   "source": [
    "# закрываем соединение\n",
    "conn.close()"
   ]
  }
 ],
 "metadata": {
  "kernelspec": {
   "display_name": "Python 3 (ipykernel)",
   "language": "python",
   "name": "python3"
  },
  "language_info": {
   "codemirror_mode": {
    "name": "ipython",
    "version": 3
   },
   "file_extension": ".py",
   "mimetype": "text/x-python",
   "name": "python",
   "nbconvert_exporter": "python",
   "pygments_lexer": "ipython3",
   "version": "3.10.9"
  }
 },
 "nbformat": 4,
 "nbformat_minor": 5
}
